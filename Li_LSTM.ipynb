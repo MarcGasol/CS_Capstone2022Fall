{
  "nbformat": 4,
  "nbformat_minor": 0,
  "metadata": {
    "kernelspec": {
      "display_name": "Python 3",
      "language": "python",
      "name": "python3"
    },
    "language_info": {
      "codemirror_mode": {
        "name": "ipython",
        "version": 3
      },
      "file_extension": ".py",
      "mimetype": "text/x-python",
      "name": "python",
      "nbconvert_exporter": "python",
      "pygments_lexer": "ipython3",
      "version": "3.8.1"
    },
    "colab": {
      "provenance": []
    },
    "accelerator": "GPU"
  },
  "cells": [
    {
      "cell_type": "code",
      "metadata": {
        "colab": {
          "base_uri": "https://localhost:8080/"
        },
        "id": "wKGSmiQ37fHQ",
        "outputId": "09beae32-7a5c-4645-d057-a176c0bd8c61"
      },
      "source": [
        "from google.colab import drive\n",
        "import os\n",
        "drive.mount('/content/drive')\n",
        "datadir = '/content/drive/My Drive/Capstone_traces' \n",
        "os.chdir(datadir)"
      ],
      "execution_count": 2,
      "outputs": [
        {
          "output_type": "stream",
          "name": "stdout",
          "text": [
            "Mounted at /content/drive\n"
          ]
        }
      ]
    },
    {
      "cell_type": "code",
      "metadata": {
        "colab": {
          "base_uri": "https://localhost:8080/",
          "height": 165
        },
        "id": "a5fAXh4X8yaI",
        "outputId": "33d8a37f-ddc8-4364-f495-9e11929fd8c4"
      },
      "source": [
        "print(\"Num GPUs Available: \", len(tf.config.experimental.list_physical_devices('GPU')))"
      ],
      "execution_count": 3,
      "outputs": [
        {
          "output_type": "error",
          "ename": "NameError",
          "evalue": "ignored",
          "traceback": [
            "\u001b[0;31m---------------------------------------------------------------------------\u001b[0m",
            "\u001b[0;31mNameError\u001b[0m                                 Traceback (most recent call last)",
            "\u001b[0;32m<ipython-input-3-c316acf769d0>\u001b[0m in \u001b[0;36m<module>\u001b[0;34m\u001b[0m\n\u001b[0;32m----> 1\u001b[0;31m \u001b[0mprint\u001b[0m\u001b[0;34m(\u001b[0m\u001b[0;34m\"Num GPUs Available: \"\u001b[0m\u001b[0;34m,\u001b[0m \u001b[0mlen\u001b[0m\u001b[0;34m(\u001b[0m\u001b[0mtf\u001b[0m\u001b[0;34m.\u001b[0m\u001b[0mconfig\u001b[0m\u001b[0;34m.\u001b[0m\u001b[0mexperimental\u001b[0m\u001b[0;34m.\u001b[0m\u001b[0mlist_physical_devices\u001b[0m\u001b[0;34m(\u001b[0m\u001b[0;34m'GPU'\u001b[0m\u001b[0;34m)\u001b[0m\u001b[0;34m)\u001b[0m\u001b[0;34m)\u001b[0m\u001b[0;34m\u001b[0m\u001b[0;34m\u001b[0m\u001b[0m\n\u001b[0m",
            "\u001b[0;31mNameError\u001b[0m: name 'tf' is not defined"
          ]
        }
      ]
    },
    {
      "cell_type": "code",
      "metadata": {
        "id": "uxZxXXG3Y2Np",
        "colab": {
          "base_uri": "https://localhost:8080/"
        },
        "outputId": "9a0cdf03-10db-4268-c6ea-24dd50fb3ee5"
      },
      "source": [
        "assert tf.test.is_gpu_available()\n"
      ],
      "execution_count": 6,
      "outputs": [
        {
          "output_type": "stream",
          "name": "stderr",
          "text": [
            "WARNING:tensorflow:From <ipython-input-6-020036a0b407>:1: is_gpu_available (from tensorflow.python.framework.test_util) is deprecated and will be removed in a future version.\n",
            "Instructions for updating:\n",
            "Use `tf.config.list_physical_devices('GPU')` instead.\n"
          ]
        }
      ]
    },
    {
      "cell_type": "code",
      "metadata": {
        "id": "R2rLw_HVY3KX"
      },
      "source": [
        "assert tf.test.is_built_with_cuda()"
      ],
      "execution_count": 5,
      "outputs": []
    },
    {
      "cell_type": "code",
      "metadata": {
        "id": "fcL9nHGH7R6u"
      },
      "source": [
        "import pandas as pd\n",
        "import numpy as np\n",
        "import matplotlib.pyplot as plt\n",
        "import math\n",
        "from keras.models import Sequential\n",
        "from keras.layers import Dense\n",
        "from keras.layers import LSTM\n",
        "from sklearn.preprocessing import StandardScaler\n",
        "from sklearn.metrics import mean_squared_error\n",
        "from tqdm import tqdm\n",
        "import tensorflow as tf\n",
        "import time\n",
        "import datetime\n"
      ],
      "execution_count": 4,
      "outputs": []
    },
    {
      "cell_type": "code",
      "metadata": {
        "colab": {
          "base_uri": "https://localhost:8080/",
          "height": 206
        },
        "id": "C8bhM_Nf7R62",
        "outputId": "2a8e831d-d8bd-4b3b-b46e-33059bcb09ab"
      },
      "source": [
        "df = pd.read_csv(\"trace.log\",sep=' ',header=None)\n",
        "df.columns = ['sender', 'heartbeat_num','send_time','receive_time','hop_left']\n",
        "df.head()"
      ],
      "execution_count": null,
      "outputs": [
        {
          "output_type": "execute_result",
          "data": {
            "text/plain": [
              "   sender  heartbeat_num     send_time  receive_time  hop_left\n",
              "0       7              1  1.096546e+16  2.439203e+15      14.0\n",
              "1       7              2  1.096546e+16  2.439203e+15      14.0\n",
              "2       8              0  2.954178e+16  2.439203e+15      16.0\n",
              "3       7              3  1.096546e+16  2.439203e+15      14.0\n",
              "4       8              1  2.954178e+16  2.439203e+15      16.0"
            ],
            "text/html": [
              "\n",
              "  <div id=\"df-dffcf8ff-631a-428a-a35c-384ec27c0f58\">\n",
              "    <div class=\"colab-df-container\">\n",
              "      <div>\n",
              "<style scoped>\n",
              "    .dataframe tbody tr th:only-of-type {\n",
              "        vertical-align: middle;\n",
              "    }\n",
              "\n",
              "    .dataframe tbody tr th {\n",
              "        vertical-align: top;\n",
              "    }\n",
              "\n",
              "    .dataframe thead th {\n",
              "        text-align: right;\n",
              "    }\n",
              "</style>\n",
              "<table border=\"1\" class=\"dataframe\">\n",
              "  <thead>\n",
              "    <tr style=\"text-align: right;\">\n",
              "      <th></th>\n",
              "      <th>sender</th>\n",
              "      <th>heartbeat_num</th>\n",
              "      <th>send_time</th>\n",
              "      <th>receive_time</th>\n",
              "      <th>hop_left</th>\n",
              "    </tr>\n",
              "  </thead>\n",
              "  <tbody>\n",
              "    <tr>\n",
              "      <th>0</th>\n",
              "      <td>7</td>\n",
              "      <td>1</td>\n",
              "      <td>1.096546e+16</td>\n",
              "      <td>2.439203e+15</td>\n",
              "      <td>14.0</td>\n",
              "    </tr>\n",
              "    <tr>\n",
              "      <th>1</th>\n",
              "      <td>7</td>\n",
              "      <td>2</td>\n",
              "      <td>1.096546e+16</td>\n",
              "      <td>2.439203e+15</td>\n",
              "      <td>14.0</td>\n",
              "    </tr>\n",
              "    <tr>\n",
              "      <th>2</th>\n",
              "      <td>8</td>\n",
              "      <td>0</td>\n",
              "      <td>2.954178e+16</td>\n",
              "      <td>2.439203e+15</td>\n",
              "      <td>16.0</td>\n",
              "    </tr>\n",
              "    <tr>\n",
              "      <th>3</th>\n",
              "      <td>7</td>\n",
              "      <td>3</td>\n",
              "      <td>1.096546e+16</td>\n",
              "      <td>2.439203e+15</td>\n",
              "      <td>14.0</td>\n",
              "    </tr>\n",
              "    <tr>\n",
              "      <th>4</th>\n",
              "      <td>8</td>\n",
              "      <td>1</td>\n",
              "      <td>2.954178e+16</td>\n",
              "      <td>2.439203e+15</td>\n",
              "      <td>16.0</td>\n",
              "    </tr>\n",
              "  </tbody>\n",
              "</table>\n",
              "</div>\n",
              "      <button class=\"colab-df-convert\" onclick=\"convertToInteractive('df-dffcf8ff-631a-428a-a35c-384ec27c0f58')\"\n",
              "              title=\"Convert this dataframe to an interactive table.\"\n",
              "              style=\"display:none;\">\n",
              "        \n",
              "  <svg xmlns=\"http://www.w3.org/2000/svg\" height=\"24px\"viewBox=\"0 0 24 24\"\n",
              "       width=\"24px\">\n",
              "    <path d=\"M0 0h24v24H0V0z\" fill=\"none\"/>\n",
              "    <path d=\"M18.56 5.44l.94 2.06.94-2.06 2.06-.94-2.06-.94-.94-2.06-.94 2.06-2.06.94zm-11 1L8.5 8.5l.94-2.06 2.06-.94-2.06-.94L8.5 2.5l-.94 2.06-2.06.94zm10 10l.94 2.06.94-2.06 2.06-.94-2.06-.94-.94-2.06-.94 2.06-2.06.94z\"/><path d=\"M17.41 7.96l-1.37-1.37c-.4-.4-.92-.59-1.43-.59-.52 0-1.04.2-1.43.59L10.3 9.45l-7.72 7.72c-.78.78-.78 2.05 0 2.83L4 21.41c.39.39.9.59 1.41.59.51 0 1.02-.2 1.41-.59l7.78-7.78 2.81-2.81c.8-.78.8-2.07 0-2.86zM5.41 20L4 18.59l7.72-7.72 1.47 1.35L5.41 20z\"/>\n",
              "  </svg>\n",
              "      </button>\n",
              "      \n",
              "  <style>\n",
              "    .colab-df-container {\n",
              "      display:flex;\n",
              "      flex-wrap:wrap;\n",
              "      gap: 12px;\n",
              "    }\n",
              "\n",
              "    .colab-df-convert {\n",
              "      background-color: #E8F0FE;\n",
              "      border: none;\n",
              "      border-radius: 50%;\n",
              "      cursor: pointer;\n",
              "      display: none;\n",
              "      fill: #1967D2;\n",
              "      height: 32px;\n",
              "      padding: 0 0 0 0;\n",
              "      width: 32px;\n",
              "    }\n",
              "\n",
              "    .colab-df-convert:hover {\n",
              "      background-color: #E2EBFA;\n",
              "      box-shadow: 0px 1px 2px rgba(60, 64, 67, 0.3), 0px 1px 3px 1px rgba(60, 64, 67, 0.15);\n",
              "      fill: #174EA6;\n",
              "    }\n",
              "\n",
              "    [theme=dark] .colab-df-convert {\n",
              "      background-color: #3B4455;\n",
              "      fill: #D2E3FC;\n",
              "    }\n",
              "\n",
              "    [theme=dark] .colab-df-convert:hover {\n",
              "      background-color: #434B5C;\n",
              "      box-shadow: 0px 1px 3px 1px rgba(0, 0, 0, 0.15);\n",
              "      filter: drop-shadow(0px 1px 2px rgba(0, 0, 0, 0.3));\n",
              "      fill: #FFFFFF;\n",
              "    }\n",
              "  </style>\n",
              "\n",
              "      <script>\n",
              "        const buttonEl =\n",
              "          document.querySelector('#df-dffcf8ff-631a-428a-a35c-384ec27c0f58 button.colab-df-convert');\n",
              "        buttonEl.style.display =\n",
              "          google.colab.kernel.accessAllowed ? 'block' : 'none';\n",
              "\n",
              "        async function convertToInteractive(key) {\n",
              "          const element = document.querySelector('#df-dffcf8ff-631a-428a-a35c-384ec27c0f58');\n",
              "          const dataTable =\n",
              "            await google.colab.kernel.invokeFunction('convertToInteractive',\n",
              "                                                     [key], {});\n",
              "          if (!dataTable) return;\n",
              "\n",
              "          const docLinkHtml = 'Like what you see? Visit the ' +\n",
              "            '<a target=\"_blank\" href=https://colab.research.google.com/notebooks/data_table.ipynb>data table notebook</a>'\n",
              "            + ' to learn more about interactive tables.';\n",
              "          element.innerHTML = '';\n",
              "          dataTable['output_type'] = 'display_data';\n",
              "          await google.colab.output.renderOutput(dataTable, element);\n",
              "          const docLink = document.createElement('div');\n",
              "          docLink.innerHTML = docLinkHtml;\n",
              "          element.appendChild(docLink);\n",
              "        }\n",
              "      </script>\n",
              "    </div>\n",
              "  </div>\n",
              "  "
            ]
          },
          "metadata": {},
          "execution_count": 3
        }
      ]
    },
    {
      "cell_type": "code",
      "metadata": {
        "colab": {
          "base_uri": "https://localhost:8080/"
        },
        "id": "X00kl-GM7R62",
        "outputId": "77e71123-210e-484e-bbcd-5723865e4e2a"
      },
      "source": [
        "df_cut = df[:20000]\n",
        "df_1 = df_cut[df_cut['sender'] == 1]\n",
        "df_1.head(),df_1.shape"
      ],
      "execution_count": null,
      "outputs": [
        {
          "output_type": "execute_result",
          "data": {
            "text/plain": [
              "(     sender  heartbeat_num     send_time  receive_time  hop_left\n",
              " 809       1              0  4.781611e+16  2.439214e+15      16.0\n",
              " 818       1              1  4.781611e+16  2.439214e+15      16.0\n",
              " 827       1              2  4.781611e+16  2.439214e+15      16.0\n",
              " 836       1              3  4.781611e+16  2.439214e+15      16.0\n",
              " 845       1              4  4.781611e+16  2.439214e+15      16.0, (2135, 5))"
            ]
          },
          "metadata": {},
          "execution_count": 7
        }
      ]
    },
    {
      "cell_type": "code",
      "metadata": {
        "id": "psr-YhQ77R63"
      },
      "source": [
        "def scale(dataset):\n",
        "    scaler = StandardScaler()\n",
        "    dataset = dataset.reshape(-1,1)\n",
        "    dataset = scaler.fit_transform(dataset)\n",
        "    return dataset"
      ],
      "execution_count": null,
      "outputs": []
    },
    {
      "cell_type": "code",
      "metadata": {
        "id": "lh90w9-H7R63"
      },
      "source": [
        "def create_dataset(dataset, look_back=1):\n",
        "    dataX, dataY = [], []\n",
        "    for i in range(len(dataset)-look_back+1): \n",
        "        a = dataset[i:(i+look_back), 0]\n",
        "        dataX.append(a)\n",
        "        if i!=len(dataset)-look_back:\n",
        "            dataY.append(dataset[i + look_back, 0])\n",
        "\n",
        "    return np.array(dataX), np.array(dataY)"
      ],
      "execution_count": null,
      "outputs": []
    },
    {
      "cell_type": "code",
      "metadata": {
        "id": "BRhf-Rhy7R63"
      },
      "source": [
        "import keras.backend as K\n",
        "def customLoss(true,pred):\n",
        "    diff = pred - true\n",
        "\n",
        "    greater = K.greater( K.cast(0, K.floatx()),diff)\n",
        "    greater = K.cast(greater, K.floatx()) #0 for lower, 1 for greater\n",
        "    greater = greater * 10000                 #1 for lower, 2 for greater\n",
        "    greater = greater + 1\n",
        "\n",
        "    return K.mean(greater*K.square(diff))"
      ],
      "execution_count": null,
      "outputs": []
    },
    {
      "cell_type": "code",
      "metadata": {
        "id": "F5LLvdyy7R63"
      },
      "source": [
        "############ THINGS TO CHANGE #############\n",
        "n = 500 #(100,500,1000)\n",
        "look_back = 1 #(1,3,10,100)\n",
        "batch_size = 64 #(32,64)\n",
        "epochs = 5 #(5,10,...)\n",
        "############ THINGS TO CHANGE #############"
      ],
      "execution_count": null,
      "outputs": []
    },
    {
      "cell_type": "code",
      "metadata": {
        "id": "chkt7ixT7R64"
      },
      "source": [
        "model = tf.keras.models.Sequential([\n",
        "    # Shape [batch, time, features] => [batch, time, lstm_units]\n",
        "    tf.keras.layers.LSTM(4, return_sequences=True),\n",
        "    # Shape => [batch, time, features]\n",
        "    tf.keras.layers.Dense(units=1)\n",
        "])\n",
        "model.compile(loss=customLoss, optimizer='adam')"
      ],
      "execution_count": null,
      "outputs": []
    },
    {
      "cell_type": "code",
      "metadata": {
        "colab": {
          "base_uri": "https://localhost:8080/",
          "height": 235
        },
        "id": "zMR-ATCt7R64",
        "outputId": "0279bd16-0ec2-4886-87cd-e7e4e23919f1"
      },
      "source": [
        "\n",
        "\n",
        "interval = np.ndarray(0)\n",
        "interval_scaled = np.ndarray(0)\n",
        "expected_arrival = [0 for i in range(len(df_1)+1)]\n",
        "arrival = [0 for i in range(len(df_1))]\n",
        "diffs = []\n",
        "\n",
        "\n",
        "\n",
        "sus_sum = 0\n",
        "k = -1\n",
        "\n",
        "# delta = 100000000\n",
        "init_safety_margin = 2000000\n",
        "freshness_points = [0 for i in range(len(df_1)+1)]\n",
        "\n",
        "\n",
        "t = time.time()\n",
        "\n",
        "for i in range(len(df_1)):\n",
        "\n",
        "    k = i\n",
        "    rece_time = df_1['receive_time'].values[i]\n",
        "\n",
        "    arrival[i] = rece_time\n",
        "    \n",
        "    \n",
        "\n",
        "    if k > n+1 and rece_time > freshness_points[i]:\n",
        "        sus_sum += 1\n",
        "        diff = rece_time - freshness_points[i]\n",
        "        diffs.append(diff)\n",
        "        safety_margin = init_safety_margin + sum(diffs[-10:])/len(diffs[-10:])\n",
        "        print(k,safety_margin/1000000)\n",
        "    else:\n",
        "        safety_margin = init_safety_margin\n",
        "        \n",
        "\n",
        "\n",
        "    if k <= n: # for the first n points, just accumulate the results\n",
        "        expected_arrival[k+1] = rece_time + 100000000 \n",
        "        if k == 0:\n",
        "            pass\n",
        "        else:\n",
        "            interval = np.append( interval, rece_time - arrival[k-1])\n",
        "            interval_scaled = scale( interval )\n",
        "\n",
        "\n",
        "\n",
        "    else: # now, we have three elements in interval array, let's start training\n",
        "\n",
        "        # calculate the interval between most recent receive and second most\n",
        "        interval = np.append( interval, rece_time - arrival[k-1])\n",
        "        interval = interval[-n:] # only keep the n most recent\n",
        "\n",
        "        scaler = StandardScaler()\n",
        "        interval_scaled = interval.reshape(-1,1)\n",
        "        interval_scaled = scaler.fit_transform(interval_scaled)\n",
        "\n",
        "#         print(interval_scaled,len(interval_scaled))\n",
        "        # split train's X and Y\n",
        "        trainX, trainY = create_dataset(interval_scaled, look_back)\n",
        "\n",
        "        testX = trainX[-1]\n",
        "        testX = testX.reshape(1,look_back)\n",
        "        testX = np.reshape(testX, (testX.shape[0], 1, testX.shape[1]))\n",
        "\n",
        "        trainX = trainX[:-1]\n",
        "        trainX = np.reshape(trainX, (trainX.shape[0], 1, trainX.shape[1]))\n",
        "\n",
        "\n",
        "#         print(trainX,testX)\n",
        "        # fit lstm, create the model\n",
        "#         model = 0\n",
        "\n",
        "        model.fit(trainX, trainY, epochs=epochs, batch_size=batch_size, verbose=False)\n",
        "\n",
        "\n",
        "        # use the model to predict\n",
        "        testY = model.predict(testX)[0]\n",
        "        testY = scaler.inverse_transform(testY)\n",
        "\n",
        "#         print(interval[k-1],testY,rece_time)\n",
        "#         print(testY)\n",
        "        expected_arrival[k+1] = np.ravel(rece_time)[0] + np.ravel(testY)[0]\n",
        "        model.reset_states()\n",
        "\n",
        "\n",
        "        freshness_points[k+1] = expected_arrival[k+1] + safety_margin\n",
        "\n",
        "        if i>0:\n",
        "          print(trainX, trainY)\n",
        "          break        \n",
        "\n",
        "\n",
        "t2 = time.time()\n",
        "computation_time_per_iter = ((t2-t)/len(df_1))*1000\n",
        "pa = 1-(sus_sum)/(len(df_1)-n)\n",
        "df_1['expected_arrival'] = expected_arrival[:-1]\n",
        "df_1['freshness_points'] = freshness_points[:-1]\n",
        "df_1['over_estimation'] = df_1['expected_arrival'] - df_1['receive_time']\n",
        "df_1['over_estimation_fresh'] = df_1['freshness_points'] - df_1['receive_time']\n",
        "df_2 = df_1[(df_1['over_estimation'] > 0)== True]\n",
        "df_2 = df_1[(df_1['over_estimation_fresh'] > 0)== True]\n",
        "over_estimation_mean = (df_2['over_estimation'].mean())/1000000\n",
        "over_estimation_fresh_mean = (df_2['over_estimation_fresh'].mean())/1000000\n",
        "\n",
        "print(\"The pa is\",pa)\n",
        "print(\"The over estimation average is\", over_estimation_mean,\"milliseconds\")\n",
        "print(\"The over estimation average fresh is\",over_estimation_fresh_mean,\"milliseconds\")\n",
        "print(\"The computation time is\",computation_time_per_iter,\"milliseconds\")\n",
        "\n",
        "                \n",
        "\n",
        "\n",
        "        \n",
        "        "
      ],
      "execution_count": 1,
      "outputs": [
        {
          "output_type": "error",
          "ename": "NameError",
          "evalue": "ignored",
          "traceback": [
            "\u001b[0;31m---------------------------------------------------------------------------\u001b[0m",
            "\u001b[0;31mNameError\u001b[0m                                 Traceback (most recent call last)",
            "\u001b[0;32m<ipython-input-1-cea85e03985f>\u001b[0m in \u001b[0;36m<module>\u001b[0;34m\u001b[0m\n\u001b[0;32m----> 1\u001b[0;31m \u001b[0minterval\u001b[0m \u001b[0;34m=\u001b[0m \u001b[0mnp\u001b[0m\u001b[0;34m.\u001b[0m\u001b[0mndarray\u001b[0m\u001b[0;34m(\u001b[0m\u001b[0;36m0\u001b[0m\u001b[0;34m)\u001b[0m\u001b[0;34m\u001b[0m\u001b[0;34m\u001b[0m\u001b[0m\n\u001b[0m\u001b[1;32m      2\u001b[0m \u001b[0minterval_scaled\u001b[0m \u001b[0;34m=\u001b[0m \u001b[0mnp\u001b[0m\u001b[0;34m.\u001b[0m\u001b[0mndarray\u001b[0m\u001b[0;34m(\u001b[0m\u001b[0;36m0\u001b[0m\u001b[0;34m)\u001b[0m\u001b[0;34m\u001b[0m\u001b[0;34m\u001b[0m\u001b[0m\n\u001b[1;32m      3\u001b[0m \u001b[0mexpected_arrival\u001b[0m \u001b[0;34m=\u001b[0m \u001b[0;34m[\u001b[0m\u001b[0;36m0\u001b[0m \u001b[0;32mfor\u001b[0m \u001b[0mi\u001b[0m \u001b[0;32min\u001b[0m \u001b[0mrange\u001b[0m\u001b[0;34m(\u001b[0m\u001b[0mlen\u001b[0m\u001b[0;34m(\u001b[0m\u001b[0mdf_1\u001b[0m\u001b[0;34m)\u001b[0m\u001b[0;34m+\u001b[0m\u001b[0;36m1\u001b[0m\u001b[0;34m)\u001b[0m\u001b[0;34m]\u001b[0m\u001b[0;34m\u001b[0m\u001b[0;34m\u001b[0m\u001b[0m\n\u001b[1;32m      4\u001b[0m \u001b[0marrival\u001b[0m \u001b[0;34m=\u001b[0m \u001b[0;34m[\u001b[0m\u001b[0;36m0\u001b[0m \u001b[0;32mfor\u001b[0m \u001b[0mi\u001b[0m \u001b[0;32min\u001b[0m \u001b[0mrange\u001b[0m\u001b[0;34m(\u001b[0m\u001b[0mlen\u001b[0m\u001b[0;34m(\u001b[0m\u001b[0mdf_1\u001b[0m\u001b[0;34m)\u001b[0m\u001b[0;34m)\u001b[0m\u001b[0;34m]\u001b[0m\u001b[0;34m\u001b[0m\u001b[0;34m\u001b[0m\u001b[0m\n\u001b[1;32m      5\u001b[0m \u001b[0mdiffs\u001b[0m \u001b[0;34m=\u001b[0m \u001b[0;34m[\u001b[0m\u001b[0;34m]\u001b[0m\u001b[0;34m\u001b[0m\u001b[0;34m\u001b[0m\u001b[0m\n",
            "\u001b[0;31mNameError\u001b[0m: name 'np' is not defined"
          ]
        }
      ]
    },
    {
      "cell_type": "code",
      "metadata": {
        "id": "q-DXsrHF7R65"
      },
      "source": [
        "###Accumulated Safety Margin on 2000000 points###\n",
        "# The pa is 0.999445650667529\n",
        "# The over estimation average is 9.395403540563029 milliseconds\n",
        "# The over estimation average fresh is 25.56356176942634 milliseconds\n",
        "# The computation time is 63.36064631930215 milliseconds"
      ],
      "execution_count": null,
      "outputs": []
    },
    {
      "cell_type": "code",
      "metadata": {
        "id": "4Wa0fZLo7R65"
      },
      "source": [
        "a = [1,2,3]\n",
        "a[-100:]"
      ],
      "execution_count": null,
      "outputs": []
    },
    {
      "cell_type": "code",
      "metadata": {
        "id": "MeyrsS5q7R65"
      },
      "source": [],
      "execution_count": null,
      "outputs": []
    }
  ]
}